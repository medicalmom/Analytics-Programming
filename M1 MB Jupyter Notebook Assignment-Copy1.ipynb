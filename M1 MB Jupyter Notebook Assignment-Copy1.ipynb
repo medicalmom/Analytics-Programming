{
 "cells": [
  {
   "cell_type": "markdown",
   "metadata": {},
   "source": [
    "# Muscle Builder Activity M1 Jupyter Notebook\n",
    "\n",
    "## Kristin Medlin\n",
    "\n",
    "### September 7, 2019\n",
    "\n",
    "__This Notebook Assignment will show three jobs that can be done within Python.__\n",
    "<br>\n",
    "> 1. Show how to import a package.\n",
    "> 2. Show how to use Python to compute for math functions.\n",
    "> 3. Show how to set keys and values for a dictionary in Python.\n",
    "\n",
    "<br>\n",
    "\n",
    "__Importing packages to Python__\n",
    "\n",
    "You can load modules to Python by using the import command and then the package name. \n",
    "\n",
    "_See the example_\n"
   ]
  },
  {
   "cell_type": "code",
   "execution_count": 1,
   "metadata": {},
   "outputs": [],
   "source": [
    "import antigravity"
   ]
  },
  {
   "cell_type": "markdown",
   "metadata": {},
   "source": [
    "__Using Python for math computation__\n",
    "<br>\n",
    "> Use numbers and symbols to perform computations such as addition, subtraction, multiplication and division, +,-,*,\\ to find answers with a known quantity\n",
    "<br>\n",
    "_see the examples_"
   ]
  },
  {
   "cell_type": "code",
   "execution_count": 2,
   "metadata": {},
   "outputs": [],
   "source": [
    "my_num = 10"
   ]
  },
  {
   "cell_type": "code",
   "execution_count": 3,
   "metadata": {},
   "outputs": [
    {
     "data": {
      "text/plain": [
       "100"
      ]
     },
     "execution_count": 3,
     "metadata": {},
     "output_type": "execute_result"
    }
   ],
   "source": [
    "my_num * 10"
   ]
  },
  {
   "cell_type": "code",
   "execution_count": 4,
   "metadata": {},
   "outputs": [],
   "source": [
    "my_num = 80"
   ]
  },
  {
   "cell_type": "code",
   "execution_count": 5,
   "metadata": {},
   "outputs": [
    {
     "data": {
      "text/plain": [
       "2.0"
      ]
     },
     "execution_count": 5,
     "metadata": {},
     "output_type": "execute_result"
    }
   ],
   "source": [
    "160 / my_num"
   ]
  },
  {
   "cell_type": "code",
   "execution_count": 6,
   "metadata": {},
   "outputs": [],
   "source": [
    "my_num = 15"
   ]
  },
  {
   "cell_type": "code",
   "execution_count": 7,
   "metadata": {},
   "outputs": [
    {
     "data": {
      "text/plain": [
       "46"
      ]
     },
     "execution_count": 7,
     "metadata": {},
     "output_type": "execute_result"
    }
   ],
   "source": [
    "31 + my_num"
   ]
  },
  {
   "cell_type": "markdown",
   "metadata": {},
   "source": [
    "__Using Python to create a dictionary with keys and values.__\n",
    "<br>\n",
    "> A Python dictionary can be created with the following steps:\n",
    ">> 1. Use the {} to define the dictionary. It will be empty. \n",
    ">> 2. Use the [] to surround and input the keys and values.\n",
    ">> 3. Run the function. \n",
    "<br>\n",
    "\n",
    "_see the example below_"
   ]
  },
  {
   "cell_type": "code",
   "execution_count": null,
   "metadata": {
    "collapsed": true
   },
   "outputs": [],
   "source": []
  },
  {
   "cell_type": "code",
   "execution_count": 8,
   "metadata": {},
   "outputs": [],
   "source": [
    "favorite_things = {}\n",
    "favorite_things [\"exercise\"] = \"running\"\n",
    "favorite_things [\"food\"] = \"sushi\"\n",
    "favorite_things [\"season\"] = \"summer\"\n",
    "favorite_things [\"color\"] = \"aquamarine\"\n",
    "favorite_things [\"designer\"] = \"Halston\"\n",
    "favorite_things [\"dessert\"]= \"key lime pie\""
   ]
  },
  {
   "cell_type": "code",
   "execution_count": 9,
   "metadata": {},
   "outputs": [
    {
     "data": {
      "text/plain": [
       "{'exercise': 'running',\n",
       " 'food': 'sushi',\n",
       " 'season': 'summer',\n",
       " 'color': 'aquamarine',\n",
       " 'designer': 'Halston',\n",
       " 'dessert': 'key lime pie'}"
      ]
     },
     "execution_count": 9,
     "metadata": {},
     "output_type": "execute_result"
    }
   ],
   "source": [
    "favorite_things"
   ]
  },
  {
   "cell_type": "code",
   "execution_count": null,
   "metadata": {},
   "outputs": [],
   "source": []
  }
 ],
 "metadata": {
  "kernelspec": {
   "display_name": "Python 3",
   "language": "python",
   "name": "python3"
  },
  "language_info": {
   "codemirror_mode": {
    "name": "ipython",
    "version": 3
   },
   "file_extension": ".py",
   "mimetype": "text/x-python",
   "name": "python",
   "nbconvert_exporter": "python",
   "pygments_lexer": "ipython3",
   "version": "3.7.3"
  }
 },
 "nbformat": 4,
 "nbformat_minor": 2
}
